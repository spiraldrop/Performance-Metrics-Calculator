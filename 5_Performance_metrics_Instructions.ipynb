{
 "cells": [
  {
   "cell_type": "markdown",
   "metadata": {
    "colab_type": "text",
    "id": "s0Ej_bXyQvnV"
   },
   "source": [
    "# Compute performance metrics for the given Y and Y_score without sklearn"
   ]
  },
  {
   "cell_type": "code",
   "execution_count": 51,
   "metadata": {
    "colab": {},
    "colab_type": "code",
    "id": "4CHb6NE7Qvnc"
   },
   "outputs": [],
   "source": [
    "import numpy as np\n",
    "import pandas as pd\n",
    "import matplotlib.pyplot as plt\n",
    "# other than these two you should not import any other packages"
   ]
  },
  {
   "cell_type": "markdown",
   "metadata": {
    "colab_type": "text",
    "id": "KbsWXuDaQvnq"
   },
   "source": [
    "<pre>\n",
    "<font color='red'><b>A.</b></font> Compute performance metrics for the given data <strong>5_a.csv</strong>\n",
    "   <b>Note 1:</b> in this data you can see number of positive points >> number of negatives points\n",
    "   <b>Note 2:</b> use pandas or numpy to read the data from <b>5_a.csv</b>\n",
    "   <b>Note 3:</b> you need to derive the class labels from given score</pre> $y^{pred}= \\text{[0 if y_score < 0.5 else 1]}$\n",
    "\n",
    "<pre>\n",
    "<ol>\n",
    "<li> Compute Confusion Matrix </li>\n",
    "<li> Compute F1 Score </li>\n",
    "<li> Compute AUC Score, you need to compute different thresholds and for each threshold compute tpr,fpr and then use               numpy.trapz(tpr_array, fpr_array) <a href='https://stackoverflow.com/q/53603376/4084039'>https://stackoverflow.com/q/53603376/4084039</a>, <a href='https://stackoverflow.com/a/39678975/4084039'>https://stackoverflow.com/a/39678975/4084039</a> Note: it should be numpy.trapz(tpr_array, fpr_array) not numpy.trapz(fpr_array, tpr_array)</li>\n",
    "<li> Compute Accuracy Score </li>\n",
    "</ol>\n",
    "</pre>"
   ]
  },
  {
   "cell_type": "markdown",
   "metadata": {},
   "source": [
    "# Confusion Matrix"
   ]
  },
  {
   "cell_type": "code",
   "execution_count": 52,
   "metadata": {
    "colab": {},
    "colab_type": "code",
    "id": "WaFLW7oBQvnt"
   },
   "outputs": [
    {
     "name": "stdout",
     "output_type": "stream",
     "text": [
      "Confusion Matrix of given dataset is:\n",
      " [[    0   100]\n",
      " [    0 10000]]\n"
     ]
    }
   ],
   "source": [
    "df = pd.read_csv('5_a.csv')\n",
    "df['predicted'] = np.where(df['proba'] >= 0.5, 1, 0)\n",
    "df = df.rename({'y' : 'actual', 'proba' : 'probab'}, axis=1)\n",
    "\n",
    "conditions = [(df['actual'] == 0) & (df['predicted'] == 0),\n",
    "              (df['actual'] == 0) & (df['predicted'] == 1),\n",
    "              (df['actual'] == 1) & (df['predicted'] == 0),\n",
    "              (df['actual'] == 1) & (df['predicted'] == 1)]\n",
    "\n",
    "values = ['true_neg', 'false_pos', 'false_neg', 'true_pos']\n",
    "\n",
    "df['tier'] = np.select(conditions, values)\n",
    "confusion_matrix = []\n",
    "\n",
    "def con_mat(df, confusion_matrix):\n",
    "    for i in values:\n",
    "        confusion_matrix.append(df[(df['tier'] == i)].shape)\n",
    "\n",
    "    confusion_matrix = [x[0] for x in confusion_matrix]\n",
    "    confusion_matrix = np.reshape(confusion_matrix, (2,2))\n",
    "    return confusion_matrix\n",
    "\n",
    "confusion_matrix = con_mat(df, confusion_matrix)\n",
    "print('Confusion Matrix of given dataset is:\\n', confusion_matrix)"
   ]
  },
  {
   "cell_type": "markdown",
   "metadata": {},
   "source": [
    "# F1 Score"
   ]
  },
  {
   "cell_type": "code",
   "execution_count": 53,
   "metadata": {},
   "outputs": [
    {
     "name": "stdout",
     "output_type": "stream",
     "text": [
      "F1 Score of given dataset is:  0.9950248756218906\n"
     ]
    }
   ],
   "source": [
    "precision = df[df['tier'] == 'true_pos'].shape[0] / (df[df['tier'] == 'true_pos'].shape[0] + df[df['tier'] == 'false_pos'].shape[0])  \n",
    "recall = df[df['tier'] == 'true_pos'].shape[0] / (df[df['tier'] == 'true_pos'].shape[0] + df[df['tier'] == 'false_neg'].shape[0])\n",
    "\n",
    "def F1(precision, recall):\n",
    "    F1_score = 2 * precision * recall/(precision + recall)\n",
    "    return F1_score\n",
    "\n",
    "print('F1 Score of given dataset is: ', F1(precision, recall))"
   ]
  },
  {
   "cell_type": "markdown",
   "metadata": {},
   "source": [
    "# Accuracy"
   ]
  },
  {
   "cell_type": "code",
   "execution_count": 54,
   "metadata": {},
   "outputs": [
    {
     "name": "stdout",
     "output_type": "stream",
     "text": [
      "Accuracy of given dataset is:  0.9900990099009901\n"
     ]
    }
   ],
   "source": [
    "def acc(df):\n",
    "    accuracy = (df[df['tier'] == 'true_pos'].shape[0] + df[df['tier'] == 'true_neg'].shape[0]) / df['tier'].shape[0]\n",
    "    return accuracy\n",
    "\n",
    "print('Accuracy of given dataset is: ', acc(df))"
   ]
  },
  {
   "cell_type": "markdown",
   "metadata": {},
   "source": [
    "# AUC score "
   ]
  },
  {
   "cell_type": "code",
   "execution_count": 55,
   "metadata": {},
   "outputs": [],
   "source": [
    "def roc_curve(y_true, y_prob, thresholds):\n",
    "    fpr = []\n",
    "    tpr = []\n",
    "    A = []\n",
    "\n",
    "    for threshold in thresholds:\n",
    "\n",
    "        y_pred = np.where(y_prob >= threshold, 1, 0)\n",
    "\n",
    "        fp = np.sum((y_pred == 1) & (y_true == 0))\n",
    "        tp = np.sum((y_pred == 1) & (y_true == 1))\n",
    "\n",
    "        fn = np.sum((y_pred == 0) & (y_true == 1))\n",
    "        tn = np.sum((y_pred == 0) & (y_true == 0))\n",
    "\n",
    "        fpr.append(fp / (fp + tn))\n",
    "        tpr.append(tp / (tp + fn))\n",
    "        best = 500 * fn + 100 * fp\n",
    "        A.append([best, threshold])\n",
    "\n",
    "    return fpr, tpr, A\n",
    "\n",
    "# You can clearly see that this code doesn't match the way I've calculated my tpr, fpr etc., my method was taking exorbitant amount of time to compute, so I had to look for external help\n",
    "# Source: https://stackoverflow.com/questions/61321778/how-to-calculate-tpr-and-fpr-in-python-without-using-sklearn"
   ]
  },
  {
   "cell_type": "code",
   "execution_count": 56,
   "metadata": {},
   "outputs": [
    {
     "name": "stdout",
     "output_type": "stream",
     "text": [
      "The AUC score for given dataset is:  0.48829900000000004\n"
     ]
    },
    {
     "data": {
      "image/png": "[encoded data removed]",
      "text/plain": [
       "<Figure size 432x288 with 1 Axes>"
      ]
     },
     "metadata": {
      "needs_background": "light"
     },
     "output_type": "display_data"
    }
   ],
   "source": [
    "df = df.sort_values(by=['probab'], ascending=False)\n",
    "fpr, tpr, A = roc_curve(df['actual'], df['probab'], [x for x in df['probab']])\n",
    "\n",
    "print('The AUC score for given dataset is: ', np.trapz(tpr, fpr))\n",
    "\n",
    "plt.plot(fpr, tpr)\n",
    "plt.show()"
   ]
  },
  {
   "cell_type": "markdown",
   "metadata": {
    "colab_type": "text",
    "id": "V5KZem1BQvn2"
   },
   "source": [
    "<pre>\n",
    "<font color='red'><b>B.</b></font> Compute performance metrics for the given data <strong>5_b.csv</strong>\n",
    "   <b>Note 1:</b> in this data you can see number of positive points << number of negatives points\n",
    "   <b>Note 2:</b> use pandas or numpy to read the data from <b>5_b.csv</b>\n",
    "   <b>Note 3:</b> you need to derive the class labels from given score</pre> $y^{pred}= \\text{[0 if y_score < 0.5 else 1]}$\n",
    "\n",
    "<pre>\n",
    "<ol>\n",
    "<li> Compute Confusion Matrix </li>\n",
    "<li> Compute F1 Score </li>\n",
    "<li> Compute AUC Score, you need to compute different thresholds and for each threshold compute tpr,fpr and then use               numpy.trapz(tpr_array, fpr_array) <a href='https://stackoverflow.com/q/53603376/4084039'>https://stackoverflow.com/q/53603376/4084039</a>, <a href='https://stackoverflow.com/a/39678975/4084039'>https://stackoverflow.com/a/39678975/4084039</a></li>\n",
    "<li> Compute Accuracy Score </li>\n",
    "</ol>\n",
    "</pre>"
   ]
  },
  {
   "cell_type": "markdown",
   "metadata": {
    "colab": {},
    "colab_type": "code",
    "id": "U2sKlq0YQvn5"
   },
   "source": [
    "# Confusion Matrix"
   ]
  },
  {
   "cell_type": "code",
   "execution_count": 57,
   "metadata": {},
   "outputs": [
    {
     "name": "stdout",
     "output_type": "stream",
     "text": [
      "Confusion Matrix of given dataset is:\n",
      " [[9761  239]\n",
      " [  45   55]]\n"
     ]
    }
   ],
   "source": [
    "df = pd.read_csv('5_b.csv')\n",
    "df['predicted'] = np.where(df['proba'] >= 0.5, 1, 0)\n",
    "df = df.rename({'y' : 'actual', 'proba' : 'probab'}, axis=1)\n",
    "\n",
    "conditions = [(df['actual'] == 0) & (df['predicted'] == 0),\n",
    "              (df['actual'] == 0) & (df['predicted'] == 1),\n",
    "              (df['actual'] == 1) & (df['predicted'] == 0),\n",
    "              (df['actual'] == 1) & (df['predicted'] == 1)]\n",
    "\n",
    "values = ['true_neg', 'false_pos', 'false_neg', 'true_pos']\n",
    "\n",
    "df['tier'] = np.select(conditions, values)\n",
    "confusion_matrix = []\n",
    "\n",
    "def con_mat(df, confusion_matrix):\n",
    "    for i in values:\n",
    "        confusion_matrix.append(df[(df['tier'] == i)].shape)\n",
    "\n",
    "    confusion_matrix = [x[0] for x in confusion_matrix]\n",
    "    confusion_matrix = np.reshape(confusion_matrix, (2,2))\n",
    "    return confusion_matrix\n",
    "\n",
    "confusion_matrix = con_mat(df, confusion_matrix)\n",
    "print('Confusion Matrix of given dataset is:\\n', confusion_matrix)"
   ]
  },
  {
   "cell_type": "markdown",
   "metadata": {},
   "source": [
    "# F1 Score"
   ]
  },
  {
   "cell_type": "code",
   "execution_count": 58,
   "metadata": {},
   "outputs": [
    {
     "name": "stdout",
     "output_type": "stream",
     "text": [
      "F1 Score of given dataset is:  0.2791878172588833\n"
     ]
    }
   ],
   "source": [
    "precision = df[df['tier'] == 'true_pos'].shape[0] / (df[df['tier'] == 'true_pos'].shape[0] + df[df['tier'] == 'false_pos'].shape[0])  \n",
    "recall = df[df['tier'] == 'true_pos'].shape[0] / (df[df['tier'] == 'true_pos'].shape[0] + df[df['tier'] == 'false_neg'].shape[0])\n",
    "\n",
    "def F1(precision, recall):\n",
    "    F1_score = 2 * precision * recall/(precision + recall)\n",
    "    return F1_score\n",
    "\n",
    "print('F1 Score of given dataset is: ', F1(precision, recall))"
   ]
  },
  {
   "cell_type": "markdown",
   "metadata": {},
   "source": [
    "# Accuracy"
   ]
  },
  {
   "cell_type": "code",
   "execution_count": 59,
   "metadata": {},
   "outputs": [
    {
     "name": "stdout",
     "output_type": "stream",
     "text": [
      "Accuracy of given dataset is:  0.9718811881188119\n"
     ]
    }
   ],
   "source": [
    "def acc(df):\n",
    "    accuracy = (df[df['tier'] == 'true_pos'].shape[0] + df[df['tier'] == 'true_neg'].shape[0]) / df['tier'].shape[0]\n",
    "    return accuracy\n",
    "\n",
    "print('Accuracy of given dataset is: ', acc(df))"
   ]
  },
  {
   "cell_type": "markdown",
   "metadata": {},
   "source": [
    "# AUC Score"
   ]
  },
  {
   "cell_type": "code",
   "execution_count": 60,
   "metadata": {},
   "outputs": [
    {
     "name": "stdout",
     "output_type": "stream",
     "text": [
      "The AUC score for given dataset is:  0.9377570000000001\n"
     ]
    },
    {
     "data": {
      "image/png": "[encoded data removed]",
      "text/plain": [
       "<Figure size 432x288 with 1 Axes>"
      ]
     },
     "metadata": {
      "needs_background": "light"
     },
     "output_type": "display_data"
    }
   ],
   "source": [
    "df = df.sort_values(by=['probab'], ascending=False)\n",
    "fpr, tpr, A = roc_curve(df['actual'], df['probab'], [x for x in df['probab']])\n",
    "print('The AUC score for given dataset is: ', np.trapz(tpr, fpr))\n",
    "\n",
    "plt.plot(fpr, tpr)\n",
    "plt.show()"
   ]
  },
  {
   "cell_type": "markdown",
   "metadata": {
    "colab_type": "text",
    "id": "GiPGonTzQvoB"
   },
   "source": [
    "<font color='red'><b>C.</b></font> Compute the best threshold (similarly to ROC curve computation) of probability which gives lowest values of metric <b>A</b> for the given data <strong>5_c.csv</strong>\n",
    "<br>\n",
    "\n",
    "you will be predicting label of a data points like this: $y^{pred}= \\text{[0 if y_score < threshold  else 1]}$\n",
    "\n",
    "$ A = 500 \\times \\text{number of false negative} + 100 \\times \\text{numebr of false positive}$\n",
    "\n",
    "<pre>\n",
    "   <b>Note 1:</b> in this data you can see number of negative points > number of positive points\n",
    "   <b>Note 2:</b> use pandas or numpy to read the data from <b>5_c.csv</b>\n",
    "</pre>"
   ]
  },
  {
   "cell_type": "code",
   "execution_count": 61,
   "metadata": {
    "colab": {},
    "colab_type": "code",
    "id": "x5HIJzq1QvoE"
   },
   "outputs": [],
   "source": [
    "df = pd.read_csv('5_c.csv')\n",
    "df = df.sort_values(by=['prob'], ascending=False)"
   ]
  },
  {
   "cell_type": "code",
   "execution_count": 62,
   "metadata": {},
   "outputs": [
    {
     "name": "stdout",
     "output_type": "stream",
     "text": [
      "The best threshold for the min value of A is:  0.2300390278970873\n"
     ]
    }
   ],
   "source": [
    "fpr, tpr, A = roc_curve(df['y'], df['prob'], [x for x in df['prob']])\n",
    "A.sort(key = lambda x: x[0])\n",
    "print('The best threshold for the min value of A is: ', A[0][1])"
   ]
  },
  {
   "cell_type": "markdown",
   "metadata": {
    "colab_type": "text",
    "id": "sD4CcgjXQvoL"
   },
   "source": [
    "<pre>\n",
    "<font color='red'><b>D.</b></font> Compute performance metrics(for regression) for the given data <strong>5_d.csv</strong>\n",
    "    <b>Note 2:</b> use pandas or numpy to read the data from <b>5_d.csv</b>\n",
    "    <b>Note 1:</b> <b>5_d.csv</b> will having two columns Y and predicted_Y both are real valued features\n",
    "<ol>\n",
    "<li> Compute Mean Square Error </li>\n",
    "<li> Compute MAPE: https://www.youtube.com/watch?v=ly6ztgIkUxk</li>\n",
    "<li> Compute R^2 error: https://en.wikipedia.org/wiki/Coefficient_of_determination#Definitions </li>\n",
    "</ol>\n",
    "</pre>"
   ]
  },
  {
   "cell_type": "code",
   "execution_count": 63,
   "metadata": {},
   "outputs": [],
   "source": [
    "df = pd.read_csv('5_d.csv')"
   ]
  },
  {
   "cell_type": "markdown",
   "metadata": {},
   "source": [
    "# Mean squared error"
   ]
  },
  {
   "cell_type": "code",
   "execution_count": 64,
   "metadata": {},
   "outputs": [
    {
     "name": "stdout",
     "output_type": "stream",
     "text": [
      "The Mean squared error for the given dataset is:  177.16569974554707\n"
     ]
    }
   ],
   "source": [
    "def ss_residue():\n",
    "    errors = []\n",
    "    for i in range(0, df.shape[0]):\n",
    "        error = (df['y'][i] - df['pred'][i])**2\n",
    "        errors.append(error)\n",
    "    ss_residue = sum(errors)\n",
    "    \n",
    "    return ss_residue\n",
    "\n",
    "mean_squared_error = 1/df.shape[0] * ss_residue()\n",
    "print('The Mean squared error for the given dataset is: ', mean_squared_error)"
   ]
  },
  {
   "cell_type": "markdown",
   "metadata": {},
   "source": [
    "# MAPE"
   ]
  },
  {
   "cell_type": "code",
   "execution_count": 65,
   "metadata": {},
   "outputs": [
    {
     "name": "stdout",
     "output_type": "stream",
     "text": [
      "MAPE for the given dataset is:  0.1291202994009687\n"
     ]
    }
   ],
   "source": [
    "def MAPE(Y_actual,Y_Predicted):\n",
    "    if Y_actual.all():\n",
    "        error=0\n",
    "        for i in range(0, len(Y_actual)):\n",
    "            error = error + np.abs((Y_actual[i] - Y_Predicted[i]) / Y_actual[i])*100\n",
    "        return error/len(Y_actual)\n",
    "    else:\n",
    "        average_actual = sum(Y_actual) / len(Y_actual)\n",
    "        error=0\n",
    "        for i in range(0, len(Y_actual)):\n",
    "            error = error + np.mean(np.abs((Y_actual[i] - Y_Predicted[i])))\n",
    "        return error/((average_actual)*len(Y_actual))\n",
    "        \n",
    "\n",
    "print('MAPE for the given dataset is: ', MAPE(df['y'], df['pred']))\n"
   ]
  },
  {
   "cell_type": "markdown",
   "metadata": {},
   "source": [
    "# R^2 error"
   ]
  },
  {
   "cell_type": "code",
   "execution_count": 66,
   "metadata": {},
   "outputs": [
    {
     "name": "stdout",
     "output_type": "stream",
     "text": [
      "The R_squared value for given dataset is:  0.9563582786990964\n"
     ]
    }
   ],
   "source": [
    "def ss_total():\n",
    "    errors = []\n",
    "    mean = np.mean(df['y'])\n",
    "    for i in range(0, df.shape[0]):\n",
    "        error = (df['y'][i] - mean)**2\n",
    "        errors.append(error)\n",
    "    ss_total = sum(errors)\n",
    "    \n",
    "    return ss_total\n",
    "\n",
    "\n",
    "ss_residue = ss_residue()\n",
    "ss_total = ss_total()\n",
    "\n",
    "r_squared = 1 - ss_residue/ss_total\n",
    "print('The R_squared value for given dataset is: ', r_squared)"
   ]
  }
 ],
 "metadata": {
  "colab": {
   "collapsed_sections": [],
   "name": "5_Performance_metrics_Instructions.ipynb",
   "provenance": []
  },
  "kernelspec": {
   "display_name": "Python 3",
   "language": "python",
   "name": "python3"
  },
  "language_info": {
   "codemirror_mode": {
    "name": "ipython",
    "version": 3
   },
   "file_extension": ".py",
   "mimetype": "text/x-python",
   "name": "python",
   "nbconvert_exporter": "python",
   "pygments_lexer": "ipython3",
   "version": "3.8.6"
  }
 },
 "nbformat": 4,
 "nbformat_minor": 1
}
